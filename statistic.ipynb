{
 "cells": [
  {
   "cell_type": "code",
   "execution_count": 5,
   "metadata": {},
   "outputs": [
    {
     "name": "stdout",
     "output_type": "stream",
     "text": [
      "Streamlit est déjà installé.\n"
     ]
    }
   ],
   "source": [
    "import importlib\n",
    "\n",
    "if importlib.util.find_spec('streamlit') is None:\n",
    "    print(\"Streamlit n'est pas installé. Installation en cours...\")\n",
    "    %pip install streamlit\n",
    "    print(\"Streamlit a été installé avec succès.\")\n",
    "else:\n",
    "    print(\"Streamlit est déjà installé.\")\n",
    "import streamlit as st\n",
    "import pandas as pd\n",
    "import sqlite3\n",
    "import altair as alt\n",
    "\n",
    "conn = sqlite3.connect('Meteo_France_Mensuelle.db')\n",
    "\n",
    "df = pd.read_sql_query(\"SELECT * from Meteo_France_Mensuelle\", conn)\n",
    "\n",
    "st.write(df)"
   ]
  },
  {
   "cell_type": "code",
   "execution_count": 6,
   "metadata": {},
   "outputs": [
    {
     "data": {
      "text/plain": [
       "DeltaGenerator()"
      ]
     },
     "execution_count": 6,
     "metadata": {},
     "output_type": "execute_result"
    }
   ],
   "source": [
    "conn = sqlite3.connect('Meteo_France_Mensuelle.db')\n",
    "\n",
    "df = pd.read_sql_query(\"SELECT * from Meteo_France_Mensuelle\", conn)\n",
    "\n",
    "chart = alt.Chart(df).mark_line().encode(\n",
    "    x='mois',\n",
    "    y='temperature_moyenne',\n",
    "    color='region'\n",
    ").properties(\n",
    "    width=700,\n",
    "    height=400\n",
    ")\n",
    "\n",
    "st.altair_chart(chart)"
   ]
  }
 ],
 "metadata": {
  "kernelspec": {
   "display_name": "Python 3",
   "language": "python",
   "name": "python3"
  },
  "language_info": {
   "codemirror_mode": {
    "name": "ipython",
    "version": 3
   },
   "file_extension": ".py",
   "mimetype": "text/x-python",
   "name": "python",
   "nbconvert_exporter": "python",
   "pygments_lexer": "ipython3",
   "version": "3.10.6"
  },
  "orig_nbformat": 4
 },
 "nbformat": 4,
 "nbformat_minor": 2
}
