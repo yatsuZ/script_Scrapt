{
 "cells": [
  {
   "cell_type": "code",
   "execution_count": 14,
   "metadata": {},
   "outputs": [
    {
     "name": "stdout",
     "output_type": "stream",
     "text": [
      "import_ipynb n'est pas installé. Installation...\n",
      "\n",
      "Defaulting to user installation because normal site-packages is not writeable\n",
      "Collecting import-ipynb\n",
      "  Downloading import_ipynb-0.1.4-py3-none-any.whl (4.1 kB)\n",
      "Requirement already satisfied: IPython in /home/yatsu/.local/lib/python3.10/site-packages (from import-ipynb) (8.13.1)\n",
      "Requirement already satisfied: nbformat in /home/yatsu/.local/lib/python3.10/site-packages (from import-ipynb) (5.8.0)\n",
      "Requirement already satisfied: backcall in /home/yatsu/.local/lib/python3.10/site-packages (from IPython->import-ipynb) (0.2.0)\n",
      "Requirement already satisfied: decorator in /home/yatsu/.local/lib/python3.10/site-packages (from IPython->import-ipynb) (5.1.1)\n",
      "Requirement already satisfied: jedi>=0.16 in /home/yatsu/.local/lib/python3.10/site-packages (from IPython->import-ipynb) (0.18.2)\n",
      "Requirement already satisfied: matplotlib-inline in /home/yatsu/.local/lib/python3.10/site-packages (from IPython->import-ipynb) (0.1.6)\n",
      "Requirement already satisfied: pickleshare in /home/yatsu/.local/lib/python3.10/site-packages (from IPython->import-ipynb) (0.7.5)\n",
      "Requirement already satisfied: prompt-toolkit!=3.0.37,<3.1.0,>=3.0.30 in /home/yatsu/.local/lib/python3.10/site-packages (from IPython->import-ipynb) (3.0.38)\n",
      "Requirement already satisfied: pygments>=2.4.0 in /usr/lib/python3/dist-packages (from IPython->import-ipynb) (2.11.2)\n",
      "Requirement already satisfied: stack-data in /home/yatsu/.local/lib/python3.10/site-packages (from IPython->import-ipynb) (0.6.2)\n",
      "Requirement already satisfied: traitlets>=5 in /home/yatsu/.local/lib/python3.10/site-packages (from IPython->import-ipynb) (5.9.0)\n",
      "Requirement already satisfied: pexpect>4.3 in /usr/lib/python3/dist-packages (from IPython->import-ipynb) (4.8.0)\n",
      "Requirement already satisfied: fastjsonschema in /home/yatsu/.local/lib/python3.10/site-packages (from nbformat->import-ipynb) (2.16.3)\n",
      "Requirement already satisfied: jsonschema>=2.6 in /home/yatsu/.local/lib/python3.10/site-packages (from nbformat->import-ipynb) (4.17.3)\n",
      "Requirement already satisfied: jupyter-core in /home/yatsu/.local/lib/python3.10/site-packages (from nbformat->import-ipynb) (5.3.0)\n",
      "Requirement already satisfied: parso<0.9.0,>=0.8.0 in /home/yatsu/.local/lib/python3.10/site-packages (from jedi>=0.16->IPython->import-ipynb) (0.8.3)\n",
      "Requirement already satisfied: attrs>=17.4.0 in /home/yatsu/.local/lib/python3.10/site-packages (from jsonschema>=2.6->nbformat->import-ipynb) (23.1.0)\n",
      "Requirement already satisfied: pyrsistent!=0.17.0,!=0.17.1,!=0.17.2,>=0.14.0 in /home/yatsu/.local/lib/python3.10/site-packages (from jsonschema>=2.6->nbformat->import-ipynb) (0.19.3)\n",
      "Requirement already satisfied: wcwidth in /home/yatsu/.local/lib/python3.10/site-packages (from prompt-toolkit!=3.0.37,<3.1.0,>=3.0.30->IPython->import-ipynb) (0.2.6)\n",
      "Requirement already satisfied: platformdirs>=2.5 in /home/yatsu/.local/lib/python3.10/site-packages (from jupyter-core->nbformat->import-ipynb) (3.5.0)\n",
      "Requirement already satisfied: executing>=1.2.0 in /home/yatsu/.local/lib/python3.10/site-packages (from stack-data->IPython->import-ipynb) (1.2.0)\n",
      "Requirement already satisfied: asttokens>=2.1.0 in /home/yatsu/.local/lib/python3.10/site-packages (from stack-data->IPython->import-ipynb) (2.2.1)\n",
      "Requirement already satisfied: pure-eval in /home/yatsu/.local/lib/python3.10/site-packages (from stack-data->IPython->import-ipynb) (0.2.2)\n",
      "Requirement already satisfied: six in /usr/lib/python3/dist-packages (from asttokens>=2.1.0->stack-data->IPython->import-ipynb) (1.16.0)\n",
      "Installing collected packages: import-ipynb\n",
      "Successfully installed import-ipynb-0.1.4\n",
      "\n",
      "\u001b[1m[\u001b[0m\u001b[34;49mnotice\u001b[0m\u001b[1;39;49m]\u001b[0m\u001b[39;49m A new release of pip is available: \u001b[0m\u001b[31;49m23.1.1\u001b[0m\u001b[39;49m -> \u001b[0m\u001b[32;49m23.1.2\u001b[0m\n",
      "\u001b[1m[\u001b[0m\u001b[34;49mnotice\u001b[0m\u001b[1;39;49m]\u001b[0m\u001b[39;49m To update, run: \u001b[0m\u001b[32;49mpip install --upgrade pip\u001b[0m\n",
      "Note: you may need to restart the kernel to use updated packages.\n"
     ]
    }
   ],
   "source": [
    "try:\n",
    "    import import_ipynb\n",
    "    print(\"import_ipynb est deja installer :)\")\n",
    "except ImportError:\n",
    "    print(\"import_ipynb n'est pas installé. Installation...\\n\")\n",
    "    %pip install import-ipynb\n",
    "    import import_ipynb\n"
   ]
  },
  {
   "cell_type": "code",
   "execution_count": 18,
   "metadata": {},
   "outputs": [
    {
     "data": {
      "text/plain": [
       "<module 'scrape' (<nbimporter.NotebookLoader object at 0x7f06e80779d0>)>"
      ]
     },
     "execution_count": 18,
     "metadata": {},
     "output_type": "execute_result"
    }
   ],
   "source": [
    "from scrape import *\n",
    "\n",
    "scrape"
   ]
  }
 ],
 "metadata": {
  "kernelspec": {
   "display_name": "Python 3",
   "language": "python",
   "name": "python3"
  },
  "language_info": {
   "codemirror_mode": {
    "name": "ipython",
    "version": 3
   },
   "file_extension": ".py",
   "mimetype": "text/x-python",
   "name": "python",
   "nbconvert_exporter": "python",
   "pygments_lexer": "ipython3",
   "version": "3.10.6"
  },
  "orig_nbformat": 4
 },
 "nbformat": 4,
 "nbformat_minor": 2
}
